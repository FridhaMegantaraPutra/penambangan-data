{
 "cells": [
  {
   "cell_type": "markdown",
   "id": "023066e4",
   "metadata": {},
   "source": [
    "## backpropagation"
   ]
  },
  {
   "cell_type": "code",
   "execution_count": 1,
   "id": "6055814b",
   "metadata": {},
   "outputs": [],
   "source": [
    "import numpy as np"
   ]
  },
  {
   "cell_type": "markdown",
   "id": "78e3736c",
   "metadata": {},
   "source": [
    "inisialisasi data pada jaringan saraf tiruan adalah untuk menyiapkan data yang diperlukan dalam pelatihan dan pengujian model. Dalam hal ini, data harus terdiri dari input dan output yang sudah ditentukan terlebih dahulu dan harus memiliki jumlah dan bentuk yang sesuai dengan kebutuhan model."
   ]
  },
  {
   "cell_type": "code",
   "execution_count": 2,
   "id": "5b425d35",
   "metadata": {},
   "outputs": [],
   "source": [
    "X = np.array([[0, 0], [0, 1], [1, 0], [1, 1]])\n",
    "y = np.array([[0], [1], [1], [0]])"
   ]
  },
  {
   "cell_type": "markdown",
   "id": "012566c9",
   "metadata": {},
   "source": [
    "lalu akan di inisialisasikan bobot dengan acak"
   ]
  },
  {
   "cell_type": "code",
   "execution_count": 3,
   "id": "4bc52982",
   "metadata": {},
   "outputs": [],
   "source": [
    "w1 = np.random.rand(2, 2) # bobot dari input ke hidden layer\n",
    "w2 = np.random.rand(2, 1) # bobot dari hidden layer ke output"
   ]
  },
  {
   "cell_type": "markdown",
   "id": "d8fe38f9",
   "metadata": {},
   "source": [
    "Fungsi aktivasi sogmoid untuk menghasilkan output yang bernilai antara 0 dan 1, dan digunakan untuk mengaktifkan (mengubah output menjadi nilai yang lebih besar) atau mematikan (mengubah output menjadi nilai yang lebih kecil) neuron dalam jaringan."
   ]
  },
  {
   "cell_type": "code",
   "execution_count": 4,
   "id": "506c7e90",
   "metadata": {},
   "outputs": [],
   "source": [
    "def sigmoid(x):\n",
    "    return 1 / (1 + np.exp(-x))"
   ]
  },
  {
   "cell_type": "markdown",
   "id": "3fb103ea",
   "metadata": {},
   "source": [
    "Turunan dari fungsi sigmoid ini sering digunakan dalam proses pelatihan jaringan saraf tiruan menggunakan algoritma backpropagation, yang memerlukan perhitungan gradien (turunan) dari setiap neuron dalam jaringan. Dalam hal ini, turunan dari fungsi aktivasi sigmoid digunakan untuk menghitung gradien dari setiap neuron pada lapisan tersembunyi (hidden layer) dan lapisan output."
   ]
  },
  {
   "cell_type": "code",
   "execution_count": 5,
   "id": "4ac0132b",
   "metadata": {},
   "outputs": [],
   "source": [
    "def sigmoid_derivative(x):\n",
    "    return x * (1 - x)"
   ]
  },
  {
   "cell_type": "markdown",
   "id": "e07a12cb",
   "metadata": {},
   "source": [
    "training model menggunakan algoritma backpropagation ,Dalam proses training, algoritma backpropagation berusaha untuk menemukan set bobot dan bias yang dapat meminimalkan error atau loss pada jaringan saraf, sehingga jaringan tersebut dapat melakukan prediksi yang akurat pada data baru."
   ]
  },
  {
   "cell_type": "code",
   "execution_count": 6,
   "id": "abd175c1",
   "metadata": {},
   "outputs": [],
   "source": [
    "epochs = 5000\n",
    "learning_rate = 0.1"
   ]
  },
  {
   "cell_type": "markdown",
   "id": "2d6ec584",
   "metadata": {},
   "source": [
    "forward propagation bertujuan untuk menghitung nilai output dari jaringan saraf tiruan (neural network) berdasarkan input yang diberikan pada awalnya"
   ]
  },
  {
   "cell_type": "code",
   "execution_count": 7,
   "id": "9e7f7a66",
   "metadata": {},
   "outputs": [],
   "source": [
    "for i in range(epochs):\n",
    "    hidden_layer_input = np.dot(X, w1)\n",
    "    hidden_layer_output = sigmoid(hidden_layer_input)\n",
    "    output_layer_input = np.dot(hidden_layer_output, w2)\n",
    "    predicted_output = sigmoid(output_layer_input)"
   ]
  },
  {
   "cell_type": "markdown",
   "id": "28496cda",
   "metadata": {},
   "source": [
    "selanjutnya menghitung eror"
   ]
  },
  {
   "cell_type": "code",
   "execution_count": 8,
   "id": "aa35db2f",
   "metadata": {},
   "outputs": [],
   "source": [
    "error = y - predicted_output"
   ]
  },
  {
   "cell_type": "markdown",
   "id": "f20cabeb",
   "metadata": {},
   "source": [
    "backward propagation bertujuan untuk menghitung gradien (turunan) dari setiap parameter (bobot dan bias) dalam jaringan saraf tiruan (neural network) berdasarkan error yang dihasilkan pada langkah forward propagation."
   ]
  },
  {
   "cell_type": "code",
   "execution_count": 9,
   "id": "52c0b523",
   "metadata": {},
   "outputs": [],
   "source": [
    "d_predicted_output = error * sigmoid_derivative(predicted_output)\n",
    "error_hidden_layer = d_predicted_output.dot(w2.T)\n",
    "d_hidden_layer = error_hidden_layer * sigmoid_derivative(hidden_layer_output)\n",
    "    "
   ]
  },
  {
   "cell_type": "markdown",
   "id": "6c34b62f",
   "metadata": {},
   "source": [
    "update bobot bertujuan untuk memperbaiki performa model dan meningkatkan kemampuan prediksi jaringan saraf tiruan (neural network) pada data baru. Proses update bobot dilakukan pada setiap iterasi pada proses training menggunakan algoritma backpropagation."
   ]
  },
  {
   "cell_type": "code",
   "execution_count": 10,
   "id": "249e777f",
   "metadata": {},
   "outputs": [],
   "source": [
    "w2 += hidden_layer_output.T.dot(d_predicted_output) * learning_rate\n",
    "w1 += X.T.dot(d_hidden_layer) * learning_rate"
   ]
  },
  {
   "cell_type": "markdown",
   "id": "4d7331ad",
   "metadata": {},
   "source": [
    "prediksi data baru pada jaringan saraf tiruan (neural network) adalah untuk menghasilkan nilai output atau kelas yang tepat berdasarkan data input yang diberikan. Dalam konteks supervised learning, prediksi data baru dilakukan dengan menggunakan model yang telah dilatih dengan data training."
   ]
  },
  {
   "cell_type": "code",
   "execution_count": 11,
   "id": "bd858ea2",
   "metadata": {},
   "outputs": [
    {
     "name": "stdout",
     "output_type": "stream",
     "text": [
      "[0.62955849]\n"
     ]
    }
   ],
   "source": [
    "new_data = np.array([1, 0])\n",
    "hidden_layer_input = np.dot(new_data, w1)\n",
    "hidden_layer_output = sigmoid(hidden_layer_input)\n",
    "output_layer_input = np.dot(hidden_layer_output, w2)\n",
    "predicted_output = sigmoid(output_layer_input)\n",
    "print(predicted_output)\n"
   ]
  }
 ],
 "metadata": {
  "kernelspec": {
   "display_name": "Python 3 (ipykernel)",
   "language": "python",
   "name": "python3"
  },
  "language_info": {
   "codemirror_mode": {
    "name": "ipython",
    "version": 3
   },
   "file_extension": ".py",
   "mimetype": "text/x-python",
   "name": "python",
   "nbconvert_exporter": "python",
   "pygments_lexer": "ipython3",
   "version": "3.10.9"
  }
 },
 "nbformat": 4,
 "nbformat_minor": 5
}