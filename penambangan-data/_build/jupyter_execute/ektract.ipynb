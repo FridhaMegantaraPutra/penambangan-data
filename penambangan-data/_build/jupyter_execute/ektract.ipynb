{
 "cells": [
  {
   "cell_type": "markdown",
   "id": "750ab10b",
   "metadata": {},
   "source": [
    "# ektract suara"
   ]
  },
  {
   "cell_type": "code",
   "execution_count": 1,
   "id": "1fb5109c",
   "metadata": {},
   "outputs": [],
   "source": [
    "import librosa\n",
    "import numpy as np\n",
    "import os\n",
    "import pandas as pd\n",
    "from scipy.stats import kurtosis, skew\n",
    "\n",
    "data_fitur = []\n",
    "\n",
    "\n",
    "direktori_audio = 'aset' \n",
    "\n",
    "\n",
    "for filename in os.listdir(direktori_audio):\n",
    "    if filename.endswith('.wav'):\n",
    "        # Membaca file WAV\n",
    "        file_path = os.path.join(direktori_audio, filename)\n",
    "        y, sr = librosa.load(file_path, sr=None)\n",
    "\n",
    "        # Menghitung Zero Crossing Rate (ZCR)\n",
    "        zcr = librosa.feature.zero_crossing_rate(y)[0]\n",
    "\n",
    "        # Menghitung mean, median, dan standar deviasi\n",
    "        mean_value = np.mean(y)\n",
    "        median_value = np.median(y)\n",
    "        std_deviation = np.std(y)\n",
    "        \n",
    "        # Menghitung kurtosis dan skewness\n",
    "        kurtosis_value = kurtosis(y)\n",
    "        skewness_value = skew(y)\n",
    "\n",
    "        # Mendapatkan label berdasarkan nama file atau sumber data lainnya\n",
    "        # Misalnya, jika nama file mengandung label emosi, Anda dapat mengambilnya dari nama file.\n",
    "        label_emosi = filename.split('_')[0]  # Contoh: \"senang_audio.wav\" akan menghasilkan label \"senang\"\n",
    "\n",
    "        # Menyimpan hasil dalam dictionary\n",
    "        fitur_audio = {\n",
    "            'Nama File': filename,\n",
    "            'ZCR': zcr,\n",
    "            'Mean': mean_value,\n",
    "            'Median': median_value,\n",
    "            'Std Deviasi': std_deviation,\n",
    "            'Kurtosis': kurtosis_value,\n",
    "            'Skewness': skewness_value,\n",
    "            'Label': label_emosi\n",
    "        }\n",
    "\n",
    "        # Menambahkan dictionary ke list data_fitur\n",
    "        data_fitur.append(fitur_audio)\n",
    "\n",
    "# Membuat DataFrame Pandas dari data_fitur\n",
    "df = pd.DataFrame(data_fitur)\n",
    "\n",
    "# Menyimpan data ke file CSV jika diperlukan\n",
    "df.to_csv('hasil.csv', index=False)\n"
   ]
  },
  {
   "cell_type": "code",
   "execution_count": 2,
   "id": "96db40f4",
   "metadata": {},
   "outputs": [
    {
     "name": "stdout",
     "output_type": "stream",
     "text": [
      "            Nama File                                                ZCR  \\\n",
      "0         03a01Fa.wav  [0.01855469 0.03662109 0.06152344 0.10839844 0...   \n",
      "1     03a01maraha.wav  [0.01513672 0.02880859 0.05322266 0.07666016 0...   \n",
      "2    03a01netralc.wav  [0.00585938 0.01171875 0.03662109 0.046875   0...   \n",
      "3         03a02Fc.wav  [0.04394531 0.07617188 0.09765625 0.09277344 0...   \n",
      "4     03a02marahb.wav  [0.09375    0.10693359 0.15771484 0.12451172 0...   \n",
      "..                ...                                                ...   \n",
      "530   16b10marahb.wav  [0.05859375 0.13134766 0.15722656 0.17236328 0...   \n",
      "531   16b10sedihb.wav  [0.01708984 0.02148438 0.06494141 0.14892578 0...   \n",
      "532   16b10takuta.wav  [0.03320312 0.09667969 0.18261719 0.17333984 0...   \n",
      "533       16b10Tb.wav  [0.00634766 0.02880859 0.08251953 0.13769531 0...   \n",
      "534       16b10Td.wav  [0.01025391 0.01660156 0.10595703 0.11181641 0...   \n",
      "\n",
      "         Mean    Median  Std Deviasi   Kurtosis  Skewness             Label  \n",
      "0   -0.000311  0.000122     0.082317  18.738257  0.082639       03a01Fa.wav  \n",
      "1   -0.000296 -0.000214     0.127394   9.606753  0.157414   03a01maraha.wav  \n",
      "2   -0.000312  0.000336     0.125304   8.155395 -0.362300  03a01netralc.wav  \n",
      "3   -0.000171  0.000183     0.124483   7.799452 -0.143426       03a02Fc.wav  \n",
      "4   -0.000284  0.000397     0.104075   9.133885  0.024495   03a02marahb.wav  \n",
      "..        ...       ...          ...        ...       ...               ...  \n",
      "530 -0.000464 -0.000305     0.095558  10.149285  0.583385   16b10marahb.wav  \n",
      "531 -0.000268  0.000946     0.128195   7.935100 -0.612341   16b10sedihb.wav  \n",
      "532 -0.000569  0.000000     0.159642   4.239009 -0.477119   16b10takuta.wav  \n",
      "533 -0.001218 -0.000580     0.181514   2.699004 -0.321153       16b10Tb.wav  \n",
      "534 -0.001157 -0.002289     0.119185   4.089120  0.252139       16b10Td.wav  \n",
      "\n",
      "[535 rows x 8 columns]\n"
     ]
    }
   ],
   "source": [
    "import pandas as pd\n",
    "\n",
    "# Membaca file CSV yang berisi data fitur audio\n",
    "df = pd.read_csv('hasil.csv')\n",
    "\n",
    "# Menampilkan isi file CSV\n",
    "print(df)\n"
   ]
  },
  {
   "cell_type": "code",
   "execution_count": null,
   "id": "fff89cd3",
   "metadata": {},
   "outputs": [],
   "source": []
  }
 ],
 "metadata": {
  "kernelspec": {
   "display_name": "Python 3 (ipykernel)",
   "language": "python",
   "name": "python3"
  },
  "language_info": {
   "codemirror_mode": {
    "name": "ipython",
    "version": 3
   },
   "file_extension": ".py",
   "mimetype": "text/x-python",
   "name": "python",
   "nbconvert_exporter": "python",
   "pygments_lexer": "ipython3",
   "version": "3.10.9"
  }
 },
 "nbformat": 4,
 "nbformat_minor": 5
}