{
 "cells": [
  {
   "cell_type": "markdown",
   "id": "01d80343",
   "metadata": {},
   "source": [
    "# 1.INI ADALAH TUGAS PERTAMAN SAYA MENGGUNAKAN HAMMING DISTANCE UNTUK MENGUKUR JARAK"
   ]
  },
  {
   "cell_type": "code",
   "execution_count": 1,
   "id": "f974ea3d",
   "metadata": {},
   "outputs": [],
   "source": [
    "import pandas as pd\n",
    "import numpy as np\n",
    "import seaborn as sb\n",
    "\n"
   ]
  },
  {
   "cell_type": "code",
   "execution_count": 2,
   "id": "caad936f",
   "metadata": {},
   "outputs": [
    {
     "name": "stdout",
     "output_type": "stream",
     "text": [
      "     outlook humidity  windy play temperature\n",
      "0      sunny     high  benar   no         hot\n",
      "1      sunny     high  benar   no         hot\n",
      "2   overcast     high  salah  yes         hot\n",
      "3      rainy     high  salah  yes        mild\n",
      "4      rainy   normal  salah  yes        cool\n",
      "5      rainy   normal  benar   no        cool\n",
      "6      sunny     high  salah   no        mild\n",
      "7      sunny   normal  benar  yes        cool\n",
      "8      rainy   normal  salah  yes        mild\n",
      "9      sunny   normal  benar  yes        mild\n",
      "10  overcast     high  benar  yes        mild\n",
      "11  overcast   normal  salah  yes         hot\n",
      "12     rainy     high  benar   no        mild\n",
      "13  overcast   normal  benar  yes         NaN\n"
     ]
    }
   ],
   "source": [
    "winter = pd.read_csv(\"cuaca_baru2.csv\")\n",
    "\n",
    "print(winter)\n",
    "\n"
   ]
  },
  {
   "cell_type": "code",
   "execution_count": 3,
   "id": "375358f1",
   "metadata": {},
   "outputs": [
    {
     "name": "stdout",
     "output_type": "stream",
     "text": [
      "     outlook  humidity  windy  play temperature\n",
      "0      sunny         1      1     0         hot\n",
      "1      sunny         1      1     0         hot\n",
      "2   overcast         1      0     1         hot\n",
      "3      rainy         1      0     1        mild\n",
      "4      rainy         0      0     1        cool\n",
      "5      rainy         0      1     0        cool\n",
      "6      sunny         1      0     0        mild\n",
      "7      sunny         0      1     1        cool\n",
      "8      rainy         0      0     1        mild\n",
      "9      sunny         0      1     1        mild\n",
      "10  overcast         1      1     1        mild\n",
      "11  overcast         0      0     1         hot\n",
      "12     rainy         1      1     0        mild\n",
      "13  overcast         0      1     1         NaN\n"
     ]
    }
   ],
   "source": [
    "winter['humidity'].replace(['high','normal'],\n",
    "                        [1, 0], inplace=True)\n",
    "\n",
    "winter['play'].replace(['yes', 'no'],\n",
    "                        [1, 0], inplace=True)\n",
    "\n",
    "winter['windy'].replace(['benar', 'salah'],\n",
    "                        [1, 0], inplace=True)\n",
    "\n",
    "print(winter)\n"
   ]
  },
  {
   "cell_type": "code",
   "execution_count": 4,
   "id": "0e7d0521",
   "metadata": {},
   "outputs": [
    {
     "name": "stdout",
     "output_type": "stream",
     "text": [
      "    humidity  windy  play\n",
      "0          1      1     0\n",
      "1          1      1     0\n",
      "2          1      0     1\n",
      "3          1      0     1\n",
      "4          0      0     1\n",
      "5          0      1     0\n",
      "6          1      0     0\n",
      "7          0      1     1\n",
      "8          0      0     1\n",
      "9          0      1     1\n",
      "10         1      1     1\n",
      "11         0      0     1\n",
      "12         1      1     0\n",
      "13         0      1     1\n"
     ]
    }
   ],
   "source": [
    "\n",
    "binar = winter.loc[:,['humidity','windy','play']]\n",
    "print(binar)\n",
    "\n",
    "\n",
    "\n",
    "\n"
   ]
  },
  {
   "cell_type": "markdown",
   "id": "52939eb7",
   "metadata": {},
   "source": [
    "# ini adalah rumus hamming distance\n",
    "\n",
    "$ d(x, y)=\\frac{1}{n} \\sum\\_{n=1}^{n=n}\\left|x_i-y_i\\right| $"
   ]
  },
  {
   "cell_type": "code",
   "execution_count": 5,
   "id": "4843ebf2",
   "metadata": {},
   "outputs": [
    {
     "name": "stdout",
     "output_type": "stream",
     "text": [
      "ke 0 => [0, 1, 1] [1, 1, 0]\n",
      "0.6666666666666666\n",
      "ke 1 => [0, 1, 1] [1, 1, 0]\n",
      "0.6666666666666666\n",
      "ke 2 => [0, 1, 1] [1, 0, 1]\n",
      "0.6666666666666666\n",
      "ke 3 => [0, 1, 1] [1, 0, 1]\n",
      "0.6666666666666666\n",
      "ke 4 => [0, 1, 1] [0, 0, 1]\n",
      "0.3333333333333333\n",
      "ke 5 => [0, 1, 1] [0, 1, 0]\n",
      "0.3333333333333333\n",
      "ke 6 => [0, 1, 1] [1, 0, 0]\n",
      "1.0\n",
      "ke 7 => [0, 1, 1] [0, 1, 1]\n",
      "0.0\n",
      "ke 8 => [0, 1, 1] [0, 0, 1]\n",
      "0.3333333333333333\n",
      "ke 9 => [0, 1, 1] [0, 1, 1]\n",
      "0.0\n",
      "ke 10 => [0, 1, 1] [1, 1, 1]\n",
      "0.3333333333333333\n",
      "ke 11 => [0, 1, 1] [0, 0, 1]\n",
      "0.3333333333333333\n",
      "ke 12 => [0, 1, 1] [1, 1, 0]\n",
      "0.6666666666666666\n",
      "ke 13 => [0, 1, 1] [0, 1, 1]\n",
      "0.0\n"
     ]
    }
   ],
   "source": [
    "\n",
    "\n",
    "from scipy.spatial.distance import hamming\n",
    "data = []\n",
    "latihan = -1\n",
    "id = -1\n",
    "while latihan < 13:\n",
    "\n",
    "    latihan = latihan + 1\n",
    "    id      = id +1\n",
    "\n",
    "    a =[winter.iloc[13,1],winter.iloc[13,2],winter.iloc[13,3]]\n",
    "    b =[winter.iloc[latihan,1],winter.iloc[latihan,2],winter.iloc[latihan,3]]\n",
    "    print('ke',id,'=>',a,b)\n",
    "\n",
    "\n",
    "    hamming_distance = hamming(a,b)\n",
    "    data.append(hamming_distance)\n",
    "\n",
    "    print(hamming_distance)\n",
    "\n"
   ]
  },
  {
   "cell_type": "code",
   "execution_count": 6,
   "id": "8714adfe",
   "metadata": {},
   "outputs": [
    {
     "name": "stdout",
     "output_type": "stream",
     "text": [
      "[0.0, 0.0, 0.0, 0.3333333333333333, 0.3333333333333333, 0.3333333333333333, 0.3333333333333333, 0.3333333333333333, 0.6666666666666666, 0.6666666666666666, 0.6666666666666666, 0.6666666666666666, 0.6666666666666666, 1.0]\n"
     ]
    }
   ],
   "source": [
    "urut = data.sort()\n",
    "print(data)\n"
   ]
  },
  {
   "cell_type": "code",
   "execution_count": 7,
   "id": "a05e182c",
   "metadata": {},
   "outputs": [],
   "source": [
    "no =-1\n",
    "dat2=[]\n",
    "for i in data:\n",
    "  no=no+1\n",
    "  masuk_data = urut,i\n",
    "\n",
    "  dat2.append(masuk_data)\n"
   ]
  },
  {
   "cell_type": "code",
   "execution_count": 8,
   "id": "a737e4e0",
   "metadata": {},
   "outputs": [
    {
     "name": "stdout",
     "output_type": "stream",
     "text": [
      "(None, 0.0)\n",
      "(None, 0.0)\n",
      "(None, 0.0)\n",
      "(None, 0.3333333333333333)\n",
      "(None, 0.3333333333333333)\n",
      "(None, 0.3333333333333333)\n",
      "(None, 0.3333333333333333)\n",
      "(None, 0.3333333333333333)\n",
      "(None, 0.6666666666666666)\n",
      "(None, 0.6666666666666666)\n",
      "(None, 0.6666666666666666)\n",
      "(None, 0.6666666666666666)\n",
      "(None, 0.6666666666666666)\n",
      "(None, 1.0)\n"
     ]
    }
   ],
   "source": [
    "for i in dat2:\n",
    "  print(i)\n"
   ]
  },
  {
   "cell_type": "code",
   "execution_count": null,
   "id": "fa0ad7f7",
   "metadata": {},
   "outputs": [],
   "source": []
  },
  {
   "cell_type": "markdown",
   "id": "c08213eb",
   "metadata": {},
   "source": [
    "```{tableofcontents}\n",
    "\n",
    "```"
   ]
  }
 ],
 "metadata": {
  "jupytext": {
   "formats": "md:myst",
   "text_representation": {
    "extension": ".md",
    "format_name": "myst",
    "format_version": 0.13,
    "jupytext_version": "1.14.5"
   }
  },
  "kernelspec": {
   "display_name": "Python 3 (ipykernel)",
   "language": "python",
   "name": "python3"
  },
  "language_info": {
   "codemirror_mode": {
    "name": "ipython",
    "version": 3
   },
   "file_extension": ".py",
   "mimetype": "text/x-python",
   "name": "python",
   "nbconvert_exporter": "python",
   "pygments_lexer": "ipython3",
   "version": "3.10.9"
  },
  "source_map": [
   13,
   17,
   25,
   34,
   49,
   59,
   65,
   91,
   98,
   109,
   116,
   118
  ]
 },
 "nbformat": 4,
 "nbformat_minor": 5
}